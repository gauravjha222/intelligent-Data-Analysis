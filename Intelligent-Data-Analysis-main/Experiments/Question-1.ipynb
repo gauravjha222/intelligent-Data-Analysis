{
 "cells": [
  {
   "cell_type": "markdown",
   "id": "d6937e1c",
   "metadata": {},
   "source": [
    "# Demonstration of different pre-processing techniques including missing value handling and data discretization on any dataset"
   ]
  },
  {
   "cell_type": "markdown",
   "id": "2e4f53ff",
   "metadata": {},
   "source": [
    "### Load the dataset and print top five rows"
   ]
  },
  {
   "cell_type": "code",
   "execution_count": 10,
   "id": "283ee730",
   "metadata": {},
   "outputs": [
    {
     "name": "stdout",
     "output_type": "stream",
     "text": [
      "<bound method NDFrame.head of       Unnamed: 0                        user_name  \\\n",
      "0              0                       Mate_Ebong   \n",
      "1              1                     Sameera Khan   \n",
      "2              2                       seemaverma   \n",
      "3              3                          Lucifer   \n",
      "4              4                          shabbir   \n",
      "...          ...                              ...   \n",
      "3430        3430                      Tanvi Patel   \n",
      "3431        3431                       INC akhter   \n",
      "3432        3432              Ganesh Chand Rajwar   \n",
      "3433        3433  Raji Loganathan- Always for INC   \n",
      "3434        3434                     G. Kris Nair   \n",
      "\n",
      "                       user_location  \\\n",
      "0                                NaN   \n",
      "1                              India   \n",
      "2                             India    \n",
      "3                riyadh saudi arabia   \n",
      "4                                NaN   \n",
      "...                              ...   \n",
      "3430               Chandigarh, India   \n",
      "3431                Rajasthan, India   \n",
      "3432  Khatima,US Nagar ( UK ) India.   \n",
      "3433                             NaN   \n",
      "3434                   Mumbai, India   \n",
      "\n",
      "                                       user_description  user_verified  \\\n",
      "0     Travel lover. Entrepreneur. Soccer advocate.i ...          False   \n",
      "1     Indep Journo. Writer. Researcher. Teacher. Rea...          False   \n",
      "2                                               Ex Navy          False   \n",
      "3                                                   NaN          False   \n",
      "4                                                   NaN          False   \n",
      "...                                                 ...            ...   \n",
      "3430                         political science student.          False   \n",
      "3431  State coordinator @INCMinority,\\n&\\nA #Congres...          False   \n",
      "3432                                                NaN          False   \n",
      "3433  Striving for Social Equality, teacher, Always ...          False   \n",
      "3434  | Secular | @INC #WithRG | @CongressTask - CTF...          False   \n",
      "\n",
      "                           date  \\\n",
      "0     2022-02-11 07:31:24+00:00   \n",
      "1     2022-02-11 07:29:03+00:00   \n",
      "2     2022-02-11 07:23:58+00:00   \n",
      "3     2022-02-11 07:23:07+00:00   \n",
      "4     2022-02-11 07:02:24+00:00   \n",
      "...                         ...   \n",
      "3430  2022-02-03 01:41:06+00:00   \n",
      "3431  2022-02-03 01:40:22+00:00   \n",
      "3432  2022-02-03 01:05:45+00:00   \n",
      "3433  2022-02-03 00:33:30+00:00   \n",
      "3434  2022-02-03 00:28:15+00:00   \n",
      "\n",
      "                                                   text  \\\n",
      "0     RT @yoda_xyz: The high-stakes battle for Uttar...   \n",
      "1     #UPElection - important context https://t.co/T...   \n",
      "2     RT @pencilashan: Yogi says vote for BJP in UP,...   \n",
      "3     RT @RubinaAfaqueIND: SP leader Vipin Manothia ...   \n",
      "4     RT @RubinaAfaqueIND: SP leader Vipin Manothia ...   \n",
      "...                                                 ...   \n",
      "3430  @sambitswaraj @narendramodi Kindly utilise you...   \n",
      "3431  @sambitswaraj @narendramodi Kindly utilise you...   \n",
      "3432  @sambitswaraj @narendramodi Kindly utilise you...   \n",
      "3433  @sambitswaraj @narendramodi Kindly utilise you...   \n",
      "3434  @sambitswaraj @narendramodi Kindly utilise you...   \n",
      "\n",
      "                          hashtags               source  \n",
      "0                              NaN  Twitter for Android  \n",
      "1                   ['UPElection']  Twitter for Android  \n",
      "2                              NaN  Twitter for Android  \n",
      "3                              NaN  Twitter for Android  \n",
      "4                              NaN  Twitter for Android  \n",
      "...                            ...                  ...  \n",
      "3430                           NaN  Twitter for Android  \n",
      "3431                           NaN  Twitter for Android  \n",
      "3432                 ['AajKiBaat']  Twitter for Android  \n",
      "3433  ['UPElection', 'Budget2022']  Twitter for Android  \n",
      "3434  ['UPElection', 'Budget2022']  Twitter for Android  \n",
      "\n",
      "[3435 rows x 9 columns]>\n"
     ]
    }
   ],
   "source": [
    "import pandas as pd\n",
    "data=pd.read_csv(\"UPELECTIONS.csv\")\n",
    "print(data.head)"
   ]
  },
  {
   "cell_type": "markdown",
   "id": "60ba0873",
   "metadata": {},
   "source": [
    "### Print the all the columns names"
   ]
  },
  {
   "cell_type": "code",
   "execution_count": 11,
   "id": "b093198f",
   "metadata": {},
   "outputs": [
    {
     "name": "stdout",
     "output_type": "stream",
     "text": [
      "Index(['Unnamed: 0', 'user_name', 'user_location', 'user_description',\n",
      "       'user_verified', 'date', 'text', 'hashtags', 'source'],\n",
      "      dtype='object')\n"
     ]
    }
   ],
   "source": [
    "print(data.columns)"
   ]
  },
  {
   "cell_type": "markdown",
   "id": "ccd0a67a",
   "metadata": {},
   "source": [
    "### Print the shape of data"
   ]
  },
  {
   "cell_type": "code",
   "execution_count": 12,
   "id": "aee3dab0",
   "metadata": {},
   "outputs": [
    {
     "name": "stdout",
     "output_type": "stream",
     "text": [
      "(3435, 9)\n"
     ]
    }
   ],
   "source": [
    "print(data.shape)"
   ]
  },
  {
   "cell_type": "markdown",
   "id": "ab615494",
   "metadata": {},
   "source": [
    "### Find all null values in all the columns"
   ]
  },
  {
   "cell_type": "code",
   "execution_count": 13,
   "id": "99584ca3",
   "metadata": {},
   "outputs": [
    {
     "name": "stdout",
     "output_type": "stream",
     "text": [
      "Unnamed: 0             0\n",
      "user_name              0\n",
      "user_location       1255\n",
      "user_description     629\n",
      "user_verified          0\n",
      "date                   0\n",
      "text                   0\n",
      "hashtags            1516\n",
      "source                 0\n",
      "dtype: int64\n"
     ]
    }
   ],
   "source": [
    "print(data.isnull().sum())"
   ]
  },
  {
   "cell_type": "markdown",
   "id": "ff5ec712",
   "metadata": {},
   "source": [
    "### Extract the information of dataset"
   ]
  },
  {
   "cell_type": "code",
   "execution_count": 14,
   "id": "82815ba0",
   "metadata": {},
   "outputs": [
    {
     "name": "stdout",
     "output_type": "stream",
     "text": [
      "<class 'pandas.core.frame.DataFrame'>\n",
      "RangeIndex: 3435 entries, 0 to 3434\n",
      "Data columns (total 9 columns):\n",
      " #   Column            Non-Null Count  Dtype \n",
      "---  ------            --------------  ----- \n",
      " 0   Unnamed: 0        3435 non-null   int64 \n",
      " 1   user_name         3435 non-null   object\n",
      " 2   user_location     2180 non-null   object\n",
      " 3   user_description  2806 non-null   object\n",
      " 4   user_verified     3435 non-null   bool  \n",
      " 5   date              3435 non-null   object\n",
      " 6   text              3435 non-null   object\n",
      " 7   hashtags          1919 non-null   object\n",
      " 8   source            3435 non-null   object\n",
      "dtypes: bool(1), int64(1), object(7)\n",
      "memory usage: 218.2+ KB\n",
      "None\n"
     ]
    }
   ],
   "source": [
    "print(data.info())"
   ]
  },
  {
   "cell_type": "markdown",
   "id": "402e5065",
   "metadata": {},
   "source": [
    "### Describe the dataset"
   ]
  },
  {
   "cell_type": "code",
   "execution_count": 15,
   "id": "f6de178c",
   "metadata": {},
   "outputs": [
    {
     "name": "stdout",
     "output_type": "stream",
     "text": [
      "        Unnamed: 0\n",
      "count  3435.000000\n",
      "mean   1717.000000\n",
      "std     991.743414\n",
      "min       0.000000\n",
      "25%     858.500000\n",
      "50%    1717.000000\n",
      "75%    2575.500000\n",
      "max    3434.000000\n"
     ]
    }
   ],
   "source": [
    "print(data.describe())"
   ]
  },
  {
   "cell_type": "markdown",
   "id": "b1f927ba",
   "metadata": {},
   "source": [
    "### Replace all the NaN value in user_location column with India"
   ]
  },
  {
   "cell_type": "code",
   "execution_count": 25,
   "id": "ae3e4464",
   "metadata": {},
   "outputs": [],
   "source": [
    "data['user_location'] = data['user_location'].fillna(\"India\")"
   ]
  },
  {
   "cell_type": "markdown",
   "id": "90feddf2",
   "metadata": {},
   "source": [
    "### Replace all the NaN value in user_description columns with Employee"
   ]
  },
  {
   "cell_type": "code",
   "execution_count": 26,
   "id": "63ce18ed",
   "metadata": {},
   "outputs": [],
   "source": [
    "data['user_description'] = data['user_description'].fillna(\"Employee\")"
   ]
  },
  {
   "cell_type": "markdown",
   "id": "56100a8a",
   "metadata": {},
   "source": [
    "### Replace all the NaN value in hashtags column with UPELECTION"
   ]
  },
  {
   "cell_type": "code",
   "execution_count": 27,
   "id": "9b3849d3",
   "metadata": {},
   "outputs": [],
   "source": [
    "data['hashtags'] = data['hashtags'].fillna(\"UPElection\")"
   ]
  },
  {
   "cell_type": "markdown",
   "id": "8f7a07bb",
   "metadata": {},
   "source": [
    "### Verify the number of NaN value in each column"
   ]
  },
  {
   "cell_type": "code",
   "execution_count": 28,
   "id": "1cb5a96d",
   "metadata": {},
   "outputs": [
    {
     "name": "stdout",
     "output_type": "stream",
     "text": [
      "Unnamed: 0          0\n",
      "user_name           0\n",
      "user_location       0\n",
      "user_description    0\n",
      "user_verified       0\n",
      "date                0\n",
      "text                0\n",
      "hashtags            0\n",
      "source              0\n",
      "dtype: int64\n"
     ]
    }
   ],
   "source": [
    "print(data.isnull().sum())"
   ]
  },
  {
   "cell_type": "markdown",
   "id": "b27ca8b8",
   "metadata": {},
   "source": [
    "### Count the duplicate value in source column , here we see that the source of most of the user is Android"
   ]
  },
  {
   "cell_type": "code",
   "execution_count": 30,
   "id": "63583220",
   "metadata": {},
   "outputs": [
    {
     "name": "stdout",
     "output_type": "stream",
     "text": [
      "source\n",
      "Blog2Social APP                 1\n",
      "FS-Poster APP                   1\n",
      "FenixApp                        1\n",
      "Hocalwire Social Share          7\n",
      "Information Critical            1\n",
      "Naattuvartha                    1\n",
      "Ryzely                          1\n",
      "Semrush Social Media Tool       1\n",
      "TweetCaster for Android         1\n",
      "TweetDeck                       7\n",
      "Twitter Media Studio            5\n",
      "Twitter Web App               465\n",
      "Twitter for Android          2607\n",
      "Twitter for Mac                 1\n",
      "Twitter for iPad                8\n",
      "Twitter for iPhone            326\n",
      "dlvr.it                         1\n",
      "dtype: int64\n"
     ]
    }
   ],
   "source": [
    "# Get count duplicates single column using dataframe.pivot_table()\n",
    "data2 = data.pivot_table(index = ['source'], aggfunc ='size')\n",
    "print(data2)"
   ]
  },
  {
   "cell_type": "markdown",
   "id": "9d465a03",
   "metadata": {},
   "source": [
    "### The most duplicates in hashtags column is ['UPElection'] , ignore UPElection that is I replace it with NaN."
   ]
  },
  {
   "cell_type": "code",
   "execution_count": 39,
   "id": "2119679b",
   "metadata": {},
   "outputs": [
    {
     "name": "stdout",
     "output_type": "stream",
     "text": [
      "<bound method NDFrame.sample of hashtags\n",
      "UPElection                                                                           1516\n",
      "['UPElection']                                                                        550\n",
      "['AssemblyElections2022', 'RLD', 'SamajwadiParty', 'Mayawati']                          6\n",
      "['BJP', 'UP', 'PMModi', 'Saharanpur']                                                   1\n",
      "['LakhimpurKheri', 'UPElection', 'UPElections2022']                                     1\n",
      "                                                                                     ... \n",
      "['UttarPradesh', 'UPElection2022', 'UPElection', 'KeshavPrasadMaurya', 'Lucknow']       1\n",
      "['India', 'Pakistan']                                                                   1\n",
      "['UPElections2022', 'UPElection', 'SamajwadiParty', 'BJP', 'AkhileshYadav']             1\n",
      "['UPElections2022', 'UPElection2022', 'UPElection']                                     1\n",
      "['AajKiBaat']                                                                           1\n",
      "Length: 323, dtype: int64>\n"
     ]
    }
   ],
   "source": [
    "data2 = data.pivot_table(index = ['hashtags'], aggfunc ='size',sort=False)\n",
    "print(data2.sample)"
   ]
  },
  {
   "cell_type": "code",
   "execution_count": 48,
   "id": "6cd4321d",
   "metadata": {},
   "outputs": [
    {
     "name": "stdout",
     "output_type": "stream",
     "text": [
      "text\n",
      "RT @yoda_xyz: The high-stakes battle for Uttar Pradesh kicked off today. What will the Jat-dominant belt of the western UP vote for?\\n\\nPredi…                                                                                                                   3\n",
      "#UPElection - important context https://t.co/TcVK8qyJiQ                                                                                                                                                                                                          1\n",
      "RT @pencilashan: Yogi says vote for BJP in UP, otherwise it would become like Kerala.\\n\\nIt looks less like a warning, and more like a good o…                                                                                                                 291\n",
      "RT @RubinaAfaqueIND: SP leader Vipin Manothia was beaten up by BJP workers at the polling station in Meerut, Uttar Pradesh, the police rema…                                                                                                                     7\n",
      "Vote unitedly to route out BJP first in #AssemblyElections2022 followed by 2024.\\n\\n#RLD #SamajwadiParty #Mayawati #Congress #AIMIM #jayantchaudhary #Akhilesh #UPElections #UttarPradeshElections2022 #UPElections2022 #UPElection https://t.co/nBvgnwUZNI      1\n",
      "dtype: int64\n"
     ]
    }
   ],
   "source": [
    "data2 = data.pivot_table(index = ['text'], aggfunc ='size',sort=False)\n",
    "print(data2.head())"
   ]
  },
  {
   "cell_type": "markdown",
   "id": "4660871b",
   "metadata": {},
   "source": [
    "### Printing high frequency text"
   ]
  },
  {
   "cell_type": "code",
   "execution_count": 51,
   "id": "ccd547d2",
   "metadata": {},
   "outputs": [
    {
     "name": "stdout",
     "output_type": "stream",
     "text": [
      "@sambitswaraj @narendramodi Kindly utilise your right to vote. Do not stay back. Share the message, ReTweet.\n",
      "\n",
      "खुद भी करें..दूसरों से भी वोट करवाएं..\n",
      "\n",
      "#vote #UPElection\n",
      "\n",
      "#UP + #YOGI = #UPYOGI\n"
     ]
    }
   ],
   "source": [
    "counts = data['text'].value_counts()\n",
    "most_common_string = counts.idxmax()\n",
    "print(most_common_string)"
   ]
  },
  {
   "cell_type": "markdown",
   "id": "c2aff12e",
   "metadata": {},
   "source": [
    "### Printing high frequency user_name"
   ]
  },
  {
   "cell_type": "code",
   "execution_count": 52,
   "id": "6c3612b8",
   "metadata": {},
   "outputs": [
    {
     "name": "stdout",
     "output_type": "stream",
     "text": [
      "Rockstar\n"
     ]
    }
   ],
   "source": [
    "counts = data['user_name'].value_counts()\n",
    "most_common_string = counts.idxmax()\n",
    "print(most_common_string)"
   ]
  },
  {
   "cell_type": "markdown",
   "id": "ed779c4c",
   "metadata": {},
   "source": [
    "### Printing high frequency date"
   ]
  },
  {
   "cell_type": "code",
   "execution_count": 53,
   "id": "f7473b33",
   "metadata": {},
   "outputs": [
    {
     "name": "stdout",
     "output_type": "stream",
     "text": [
      "2022-02-03 13:45:02+00:00\n"
     ]
    }
   ],
   "source": [
    "counts = data['date'].value_counts()\n",
    "most_common_string = counts.idxmax()\n",
    "print(most_common_string)"
   ]
  },
  {
   "cell_type": "markdown",
   "id": "3d22f9f1",
   "metadata": {},
   "source": [
    "### Printing high frequency source"
   ]
  },
  {
   "cell_type": "code",
   "execution_count": 54,
   "id": "6cf12db4",
   "metadata": {},
   "outputs": [
    {
     "name": "stdout",
     "output_type": "stream",
     "text": [
      "Twitter for Android\n"
     ]
    }
   ],
   "source": [
    "counts = data['source'].value_counts()\n",
    "most_common_string = counts.idxmax()\n",
    "print(most_common_string)"
   ]
  },
  {
   "cell_type": "markdown",
   "id": "febe44d2",
   "metadata": {},
   "source": [
    "### Printing the second most frequency of user_description (here we not find first most because it Employee that is I replace it with NaN)"
   ]
  },
  {
   "cell_type": "code",
   "execution_count": 55,
   "id": "550873e8",
   "metadata": {},
   "outputs": [
    {
     "name": "stdout",
     "output_type": "stream",
     "text": [
      "Hari Bhakt\n"
     ]
    }
   ],
   "source": [
    "counts = data['user_description'].value_counts()\n",
    "second_most_common_string = counts.index[1]\n",
    "print(second_most_common_string)"
   ]
  }
 ],
 "metadata": {
  "kernelspec": {
   "display_name": "Python 3 (ipykernel)",
   "language": "python",
   "name": "python3"
  },
  "language_info": {
   "codemirror_mode": {
    "name": "ipython",
    "version": 3
   },
   "file_extension": ".py",
   "mimetype": "text/x-python",
   "name": "python",
   "nbconvert_exporter": "python",
   "pygments_lexer": "ipython3",
   "version": "3.10.9"
  }
 },
 "nbformat": 4,
 "nbformat_minor": 5
}
