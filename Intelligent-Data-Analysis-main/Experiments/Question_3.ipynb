{
  "nbformat": 4,
  "nbformat_minor": 0,
  "metadata": {
    "colab": {
      "provenance": []
    },
    "kernelspec": {
      "name": "python3",
      "display_name": "Python 3"
    },
    "language_info": {
      "name": "python"
    }
  },
  "cells": [
    {
      "cell_type": "markdown",
      "source": [
        "**Demonstration of classification rules process on dataset of your choice using ID3 and J48 Algorithm**"
      ],
      "metadata": {
        "id": "d2mgzgYWsWcS"
      }
    },
    {
      "cell_type": "code",
      "execution_count": 1,
      "metadata": {
        "colab": {
          "base_uri": "https://localhost:8080/",
          "height": 1000
        },
        "id": "z8V_Vj8Zr7Gc",
        "outputId": "1353fe21-7843-4b4b-a107-0193ae39113f"
      },
      "outputs": [
        {
          "output_type": "stream",
          "name": "stdout",
          "text": [
            "ID3 Decision Tree Rules:\n",
            " |--- petal length (cm) <= 2.45\n",
            "|   |--- class: 0\n",
            "|--- petal length (cm) >  2.45\n",
            "|   |--- petal length (cm) <= 4.75\n",
            "|   |   |--- petal width (cm) <= 1.60\n",
            "|   |   |   |--- class: 1\n",
            "|   |   |--- petal width (cm) >  1.60\n",
            "|   |   |   |--- class: 2\n",
            "|   |--- petal length (cm) >  4.75\n",
            "|   |   |--- petal length (cm) <= 5.15\n",
            "|   |   |   |--- petal width (cm) <= 1.75\n",
            "|   |   |   |   |--- sepal width (cm) <= 2.35\n",
            "|   |   |   |   |   |--- class: 2\n",
            "|   |   |   |   |--- sepal width (cm) >  2.35\n",
            "|   |   |   |   |   |--- petal length (cm) <= 5.05\n",
            "|   |   |   |   |   |   |--- class: 1\n",
            "|   |   |   |   |   |--- petal length (cm) >  5.05\n",
            "|   |   |   |   |   |   |--- sepal length (cm) <= 6.15\n",
            "|   |   |   |   |   |   |   |--- class: 1\n",
            "|   |   |   |   |   |   |--- sepal length (cm) >  6.15\n",
            "|   |   |   |   |   |   |   |--- class: 2\n",
            "|   |   |   |--- petal width (cm) >  1.75\n",
            "|   |   |   |   |--- sepal width (cm) <= 3.10\n",
            "|   |   |   |   |   |--- class: 2\n",
            "|   |   |   |   |--- sepal width (cm) >  3.10\n",
            "|   |   |   |   |   |--- class: 1\n",
            "|   |   |--- petal length (cm) >  5.15\n",
            "|   |   |   |--- class: 2\n",
            "\n",
            "J48 (C4.5) Decision Tree Rules:\n",
            " |--- petal length (cm) <= 2.45\n",
            "|   |--- class: 0\n",
            "|--- petal length (cm) >  2.45\n",
            "|   |--- petal length (cm) <= 4.75\n",
            "|   |   |--- petal width (cm) <= 1.60\n",
            "|   |   |   |--- class: 1\n",
            "|   |   |--- petal width (cm) >  1.60\n",
            "|   |   |   |--- class: 2\n",
            "|   |--- petal length (cm) >  4.75\n",
            "|   |   |--- petal width (cm) <= 1.75\n",
            "|   |   |   |--- petal length (cm) <= 4.95\n",
            "|   |   |   |   |--- class: 1\n",
            "|   |   |   |--- petal length (cm) >  4.95\n",
            "|   |   |   |   |--- petal width (cm) <= 1.55\n",
            "|   |   |   |   |   |--- class: 2\n",
            "|   |   |   |   |--- petal width (cm) >  1.55\n",
            "|   |   |   |   |   |--- petal length (cm) <= 5.45\n",
            "|   |   |   |   |   |   |--- class: 1\n",
            "|   |   |   |   |   |--- petal length (cm) >  5.45\n",
            "|   |   |   |   |   |   |--- class: 2\n",
            "|   |   |--- petal width (cm) >  1.75\n",
            "|   |   |   |--- petal length (cm) <= 4.85\n",
            "|   |   |   |   |--- sepal width (cm) <= 3.10\n",
            "|   |   |   |   |   |--- class: 2\n",
            "|   |   |   |   |--- sepal width (cm) >  3.10\n",
            "|   |   |   |   |   |--- class: 1\n",
            "|   |   |   |--- petal length (cm) >  4.85\n",
            "|   |   |   |   |--- class: 2\n",
            "\n"
          ]
        },
        {
          "output_type": "execute_result",
          "data": {
            "text/plain": [
              "'j48_decision_tree.pdf'"
            ],
            "application/vnd.google.colaboratory.intrinsic+json": {
              "type": "string"
            }
          },
          "metadata": {},
          "execution_count": 1
        }
      ],
      "source": [
        "# Import necessary libraries\n",
        "from sklearn.datasets import load_iris\n",
        "from sklearn.tree import DecisionTreeClassifier, export_text, export_graphviz\n",
        "from sklearn.model_selection import train_test_split\n",
        "import graphviz\n",
        "\n",
        "# Load the Iris dataset\n",
        "iris = load_iris()\n",
        "X = iris.data\n",
        "y = iris.target\n",
        "\n",
        "# Split the dataset into training and testing sets\n",
        "X_train, X_test, y_train, y_test = train_test_split(X, y, test_size=0.3, random_state=42)\n",
        "\n",
        "# ID3 Algorithm\n",
        "id3_classifier = DecisionTreeClassifier(criterion='entropy', random_state=42)\n",
        "id3_classifier.fit(X_train, y_train)\n",
        "\n",
        "# J48 (C4.5) Algorithm\n",
        "j48_classifier = DecisionTreeClassifier(criterion='gini', random_state=42)\n",
        "j48_classifier.fit(X_train, y_train)\n",
        "\n",
        "# Print the ID3 decision tree rules\n",
        "id3_rules = export_text(id3_classifier, feature_names=iris.feature_names)\n",
        "print(\"ID3 Decision Tree Rules:\\n\", id3_rules)\n",
        "\n",
        "# Print the J48 (C4.5) decision tree rules\n",
        "j48_rules = export_text(j48_classifier, feature_names=iris.feature_names)\n",
        "print(\"J48 (C4.5) Decision Tree Rules:\\n\", j48_rules)\n",
        "\n",
        "# Visualize the ID3 decision tree (requires graphviz)\n",
        "dot_data_id3 = export_graphviz(id3_classifier, out_file=None, feature_names=iris.feature_names, filled=True, rounded=True)\n",
        "graph_id3 = graphviz.Source(dot_data_id3)\n",
        "graph_id3.render(\"id3_decision_tree\")\n",
        "\n",
        "# Visualize the J48 (C4.5) decision tree (requires graphviz)\n",
        "dot_data_j48 = export_graphviz(j48_classifier, out_file=None, feature_names=iris.feature_names, filled=True, rounded=True)\n",
        "graph_j48 = graphviz.Source(dot_data_j48)\n",
        "graph_j48.render(\"j48_decision_tree\")\n",
        ""
      ]
    }
  ]
}